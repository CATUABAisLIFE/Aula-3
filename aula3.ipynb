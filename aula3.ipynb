{
 "cells": [
  {
   "cell_type": "code",
   "execution_count": 21,
   "metadata": {},
   "outputs": [
    {
     "ename": "SyntaxError",
     "evalue": "invalid syntax (<ipython-input-21-67964793c674>, line 5)",
     "output_type": "error",
     "traceback": [
      "\u001b[1;36m  File \u001b[1;32m\"<ipython-input-21-67964793c674>\"\u001b[1;36m, line \u001b[1;32m5\u001b[0m\n\u001b[1;33m    print('(2 - 2**-10)*2**-2 =', (2 - 2**-10)*2**-2'\\n')\u001b[0m\n\u001b[1;37m                                                       ^\u001b[0m\n\u001b[1;31mSyntaxError\u001b[0m\u001b[1;31m:\u001b[0m invalid syntax\n"
     ]
    }
   ],
   "source": [
    "print('Max half precision')\n",
    "print('0 01101 0101010101 = 0.333251953125 ≈ 1/3')\n",
    "print('01101 =>', int('01101',2))\n",
    "print('Expoente, 13 - 15')\n",
    "print('(2 - 2**-10)*2**-2 =', ((2 - 2**-10)*2**-2)*()'\\n')\n"
   ]
  },
  {
   "cell_type": "code",
   "execution_count": 20,
   "metadata": {},
   "outputs": [
    {
     "ename": "SyntaxError",
     "evalue": "invalid syntax (<ipython-input-20-ca752aae85f0>, line 9)",
     "output_type": "error",
     "traceback": [
      "\u001b[1;36m  File \u001b[1;32m\"<ipython-input-20-ca752aae85f0>\"\u001b[1;36m, line \u001b[1;32m9\u001b[0m\n\u001b[1;33m    if((exponte>1):\u001b[0m\n\u001b[1;37m                  ^\u001b[0m\n\u001b[1;31mSyntaxError\u001b[0m\u001b[1;31m:\u001b[0m invalid syntax\n"
     ]
    }
   ],
   "source": [
    "def maxi():\n",
    "    s = []\n",
    "    e = []\n",
    "    n = []\n",
    "    expoente = int(e)\n",
    "    if((exponte<1 )and(expoente>0)):\n",
    "        aux = expoente-14\n",
    "        aux2 = (2 - 2**-10)*2**-aux\n",
    "    if((exponte>1):\n",
    "        aux = expoente-15\n",
    "        aux2 = (2 - 2**-10)*2**-aux\n",
    "        aux3 = int(n)\n",
    "        aux3=float(aux3)\n",
    "        print(aux2*aux2)\n",
    "       \n",
    "\n",
    "    \n",
    "    "
   ]
  },
  {
   "cell_type": "code",
   "execution_count": null,
   "metadata": {
    "collapsed": true
   },
   "outputs": [],
   "source": []
  }
 ],
 "metadata": {
  "kernelspec": {
   "display_name": "Python 3",
   "language": "python",
   "name": "python3"
  },
  "language_info": {
   "codemirror_mode": {
    "name": "ipython",
    "version": 3
   },
   "file_extension": ".py",
   "mimetype": "text/x-python",
   "name": "python",
   "nbconvert_exporter": "python",
   "pygments_lexer": "ipython3",
   "version": "3.6.2"
  }
 },
 "nbformat": 4,
 "nbformat_minor": 2
}
